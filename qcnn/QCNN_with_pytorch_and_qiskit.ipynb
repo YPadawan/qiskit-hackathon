{
 "cells": [
  {
   "cell_type": "code",
   "execution_count": null,
   "id": "b5088014",
   "metadata": {},
   "outputs": [],
   "source": [
    "import numpy as np\n",
    "import sympy\n",
    "\n",
    "# Importing necessary quantum computing library (QISKIT)\n",
    "import qiskit\n",
    "from qiskit import transpile, assemble, QuantumCircuit, QuantumRegister, ClassicalRegister\n",
    "from qiskit.visualization import *\n",
    "\n",
    "import torch"
   ]
  },
  {
   "cell_type": "code",
   "execution_count": null,
   "id": "93b236cc",
   "metadata": {},
   "outputs": [],
   "source": [
    "qr = QuantumRegister(2)\n",
    "for bit in qr: print(QuantumCircuit(bit.register))"
   ]
  },
  {
   "cell_type": "code",
   "execution_count": null,
   "id": "97a9bd24",
   "metadata": {},
   "outputs": [],
   "source": [
    "qc0 = QuantumCircuit(qr)\n",
    "for i, _ in enumerate(qr):\n",
    "    qc0.h(i)\n",
    "qc0.draw()"
   ]
  },
  {
   "cell_type": "code",
   "execution_count": null,
   "id": "fdfba6aa",
   "metadata": {},
   "outputs": [],
   "source": [
    "test = QuantumCircuit(bit.register)\n",
    "test.rx(np.pi, bit.register)\n",
    "test.draw()"
   ]
  },
  {
   "cell_type": "markdown",
   "id": "beafd859",
   "metadata": {},
   "source": [
    "## Coding the data generation with a qiskit twist"
   ]
  },
  {
   "cell_type": "code",
   "execution_count": null,
   "id": "e8f34f23",
   "metadata": {},
   "outputs": [],
   "source": [
    "\n",
    "# https://www.tensorflow.org/quantum/tutorials/qcnn\n",
    "# This function is a readaptation of the tensorflow tutorial using qiskit and pytorch instead\n",
    "# WARNING: I believe the function is working, but it looks like it is not possible to convert quantum gates\n",
    "# and quantum circuits to pytorch tensors.\n",
    "# I don't think there is an equivalent of tfq.convert_to_tensor yet.\n",
    "# For the moment the function only returns a tuple of lists for train and test excitations.\n",
    "def generate_data(qubits):\n",
    "    \"\"\"Generate training and testing data.\"\"\"\n",
    "    n_rounds = 20  # Produces n_rounds * n_qubits datapoints.\n",
    "    excitations = []\n",
    "    labels = []\n",
    "    for n in range(n_rounds):\n",
    "        for bit in qubits:\n",
    "            rng = np.random.uniform(-np.pi, np.pi)\n",
    "            # Creating a quantum circuit with qiskit\n",
    "            excitations.append(QuantumCircuit(bit.register).rx(rng, bit.register))\n",
    "            #excitations.append(cirq.Circuit(cirq.rx(rng)(bit))) / cirq to check if it's correct\n",
    "            labels.append(1 if (-np.pi / 2) <= rng <= (np.pi / 2) else -1)\n",
    "\n",
    "    split_ind = int(len(excitations) * 0.7)\n",
    "    train_excitations = excitations[:split_ind]\n",
    "    test_excitations = excitations[split_ind:]\n",
    "\n",
    "    train_labels = labels[:split_ind]\n",
    "    test_labels = labels[split_ind:]\n",
    "    \n",
    "    return train_excitations, np.array(train_labels), \\\n",
    "        test_excitations, np.array(test_labels)\n"
   ]
  },
  {
   "cell_type": "code",
   "execution_count": null,
   "id": "e1a61a9b",
   "metadata": {},
   "outputs": [],
   "source": [
    "train_excitations, train_labels, test_excitations, test_labels = generate_data(qr)"
   ]
  },
  {
   "cell_type": "markdown",
   "id": "935c4dc1",
   "metadata": {},
   "source": [
    "## Coding the cluster-state"
   ]
  },
  {
   "cell_type": "code",
   "execution_count": null,
   "id": "da051ea9",
   "metadata": {},
   "outputs": [],
   "source": [
    "qc2 = QuantumCircuit(2, 2)\n",
    "for i in range(2): qc2.h(i)\n",
    "qc2.draw()"
   ]
  },
  {
   "cell_type": "code",
   "execution_count": null,
   "id": "53fc3c64",
   "metadata": {},
   "outputs": [],
   "source": [
    "# Kept here as a comparison\n",
    "def cluster_state_circuit(bits):\n",
    "    \"\"\"Return a cluster state on the qubits in `bits`.\"\"\"\n",
    "    circuit = cirq.Circuit()\n",
    "    circuit.append(cirq.H.on_each(bits))\n",
    "    for this_bit, next_bit in zip(bits, bits[1:] + [bits[0]]):\n",
    "        circuit.append(cirq.CZ(this_bit, next_bit))\n",
    "    return circuit"
   ]
  },
  {
   "cell_type": "code",
   "execution_count": null,
   "id": "216052ff",
   "metadata": {},
   "outputs": [],
   "source": [
    "def cluster_state(qr):\n",
    "    qc = QuantumCircuit(qr)\n",
    "    # Applying a Hadamard gate to qubits\n",
    "    for i, _ in enumerate(qr): qc.h(i)\n",
    "    for this_bit, next_bit in zip(qr, qr[1:] + [qr[0]]):\n",
    "        c = this_bit.index\n",
    "        t = next_bit.index\n",
    "        qc.cz(c, t)\n",
    "    return qc\n",
    "    "
   ]
  },
  {
   "cell_type": "code",
   "execution_count": null,
   "id": "8909538c",
   "metadata": {},
   "outputs": [],
   "source": [
    "qc_cs = cluster_state(qr)"
   ]
  },
  {
   "cell_type": "code",
   "execution_count": null,
   "id": "0192fe0f",
   "metadata": {},
   "outputs": [],
   "source": [
    "qc_cs.draw()"
   ]
  }
 ],
 "metadata": {
  "kernelspec": {
   "display_name": "Python 3 (ipykernel)",
   "language": "python",
   "name": "python3"
  },
  "language_info": {
   "codemirror_mode": {
    "name": "ipython",
    "version": 3
   },
   "file_extension": ".py",
   "mimetype": "text/x-python",
   "name": "python",
   "nbconvert_exporter": "python",
   "pygments_lexer": "ipython3",
   "version": "3.8.10"
  }
 },
 "nbformat": 4,
 "nbformat_minor": 5
}
{
   "cell_type": "code",
   "execution_count": null,
   "id": "0192fe0f",
   "metadata": {},
   "outputs": [],
   "source": [
    "qc_cs.draw()"
   ]
  }
