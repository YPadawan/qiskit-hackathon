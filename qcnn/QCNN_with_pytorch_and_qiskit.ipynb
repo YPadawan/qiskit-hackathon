{
 "cells": [
  {
   "cell_type": "code",
   "execution_count": null,
   "id": "b5088014",
   "metadata": {},
   "outputs": [],
   "source": [
    "import numpy as np\n",
    "import sympy\n",
    "\n",
    "# Importing necessary quantum computing library (QISKIT)\n",
    "import qiskit\n",
    "from qiskit import transpile, assemble, QuantumCircuit, QuantumRegister, ClassicalRegister\n",
    "from qiskit.visualization import *\n",
    "\n",
    "import torch"
   ]
  },
  {
   "cell_type": "code",
   "execution_count": null,
   "id": "93b236cc",
   "metadata": {},
   "outputs": [],
   "source": [
    "qr = QuantumRegister(2)\n",
    "for bit in qr: print(QuantumCircuit(bit.register))"
   ]
  },
  {
   "cell_type": "code",
   "execution_count": null,
   "id": "97a9bd24",
   "metadata": {},
   "outputs": [],
   "source": [
    "qc0 = QuantumCircuit(qr)\n",
    "for i, _ in enumerate(qr):\n",
    "    qc0.h(i)\n",
    "qc0.draw()"
   ]
  },
  {
   "cell_type": "code",
   "execution_count": null,
   "id": "fdfba6aa",
   "metadata": {},
   "outputs": [],
   "source": [
    "test = QuantumCircuit(bit.register)\n",
    "test.rx(np.pi, bit.register)\n",
    "test.draw()"
   ]
  },
  {
   "cell_type": "markdown",
   "id": "beafd859",
   "metadata": {},
   "source": [
    "## Coding the data generation with a qiskit twist"
   ]
  },
  {
   "cell_type": "code",
   "execution_count": null,
   "id": "e8f34f23",
   "metadata": {},
   "outputs": [],
   "source": [
    "\n",
    "# https://www.tensorflow.org/quantum/tutorials/qcnn\n",
    "# This function is a readaptation of the tensorflow tutorial using qiskit and pytorch instead\n",
    "# WARNING: I believe the function is working, but it looks like it is not possible to convert quantum gates\n",
    "# and quantum circuits to pytorch tensors.\n",
    "# I don't think there is an equivalent of tfq.convert_to_tensor yet.\n",
    "# For the moment the function only returns a tuple of lists for train and test excitations.\n",
    "def generate_data(qubits):\n",
    "    \"\"\"Generate training and testing data.\"\"\"\n",
    "    n_rounds = 20  # Produces n_rounds * n_qubits datapoints.\n",
    "    excitations = []\n",
    "    labels = []\n",
    "    for n in range(n_rounds):\n",
    "        for bit in qubits:\n",
    "            rng = np.random.uniform(-np.pi, np.pi)\n",
    "            # Creating a quantum circuit with qiskit\n",
    "            excitations.append(QuantumCircuit(bit.register).rx(rng, bit.register))\n",
    "            #excitations.append(cirq.Circuit(cirq.rx(rng)(bit))) / cirq to check if it's correct\n",
    "            labels.append(1 if (-np.pi / 2) <= rng <= (np.pi / 2) else -1)\n",
    "\n",
    "    split_ind = int(len(excitations) * 0.7)\n",
    "    train_excitations = excitations[:split_ind]\n",
    "    test_excitations = excitations[split_ind:]\n",
    "\n",
    "    train_labels = labels[:split_ind]\n",
    "    test_labels = labels[split_ind:]\n",
    "    \n",
    "    return train_excitations, np.array(train_labels), \\\n",
    "        test_excitations, np.array(test_labels)\n"
   ]
  },
  {
   "cell_type": "code",
   "execution_count": null,
   "id": "e1a61a9b",
   "metadata": {},
   "outputs": [],
   "source": [
    "train_excitations, train_labels, test_excitations, test_labels = generate_data(qr)"
   ]
  },
  {
   "cell_type": "markdown",
   "id": "935c4dc1",
   "metadata": {},
   "source": [
    "## Coding the cluster-state"
   ]
  },
  {
   "cell_type": "code",
   "execution_count": null,
   "id": "da051ea9",
   "metadata": {},
   "outputs": [],
   "source": [
    "qc2 = QuantumCircuit(2, 2)\n",
    "for i in range(2): qc2.h(i)\n",
    "qc2.draw('mpl')"
   ]
  },
  {
   "cell_type": "code",
   "execution_count": null,
   "id": "f508851e",
   "metadata": {},
   "outputs": [],
   "source": [
    "for q in qr: print(q)"
   ]
  },
  {
   "cell_type": "code",
   "execution_count": null,
   "id": "216052ff",
   "metadata": {},
   "outputs": [],
   "source": [
    "# Source:https://www.tensorflow.org/quantum/tutorials/qcnn\n",
    "def cluster_state(qr):\n",
    "    \n",
    "    qc = QuantumCircuit(qr) # Creating a QuantumRegister\n",
    "    \n",
    "    # Applying a Hadamard gate to qubits\n",
    "    for i, _ in enumerate(qr): \n",
    "        qc.h(i)\n",
    "        \n",
    "    for this_bit, next_bit in zip(qr, qr[1:] + [qr[0]]):\n",
    "        c = this_bit.index\n",
    "        t = next_bit.index\n",
    "        qc.cz(c, t)\n",
    "    return qc"
   ]
  },
  {
   "cell_type": "code",
   "execution_count": null,
   "id": "8909538c",
   "metadata": {},
   "outputs": [],
   "source": [
    "qc_cs = cluster_state(QuantumRegister(4))"
   ]
  },
  {
   "cell_type": "code",
   "execution_count": null,
   "id": "0192fe0f",
   "metadata": {},
   "outputs": [],
   "source": [
    "qc_cs.draw('mpl')"
   ]
  },
  {
   "cell_type": "markdown",
   "id": "4a07a572",
   "metadata": {},
   "source": [
    "## QCNN layers"
   ]
  },
  {
   "cell_type": "code",
   "execution_count": null,
   "id": "670d8224",
   "metadata": {},
   "outputs": [],
   "source": [
    "# Source of the function: https://www.tensorflow.org/quantum/tutorials/qcnn\n",
    "# The function has been re-adapted for qiskit use\n",
    "from qiskit.circuit import Parameter\n",
    "def one_qubit_unitary(bit, rotation=('1', '2', '3')):\n",
    "    \"\"\"Make a circuit enacting a rotation of the bloch sphere about the X,\n",
    "    Y and Z axis, that depends on the values in `symbols`.\n",
    "    Parameters\n",
    "    -----------\n",
    "    bit: (QuantumRegister (qubit)) \n",
    "        qubit that to rotate\n",
    "    rotation: (tuple) \n",
    "        tuple containing the three rotation angle for respectively, x, y and z\n",
    "    Returns\n",
    "    -------\n",
    "        Rotated qubit\n",
    "    \"\"\"\n",
    "    x, y, z = rotation\n",
    "    qc = QuantumCircuit(bit)\n",
    "    qc.rx(Parameter(x), 0)\n",
    "    qc.ry(Parameter(y), 0)\n",
    "    qc.rz(Parameter(z), 0)\n",
    "    return qc"
   ]
  },
  {
   "cell_type": "code",
   "execution_count": null,
   "id": "ec531c88",
   "metadata": {},
   "outputs": [],
   "source": [
    "one_qubit_unitary(1, (\"e1\", \"e2\", \"e3\")).draw()"
   ]
  },
  {
   "cell_type": "code",
   "execution_count": null,
   "id": "a2733be2",
   "metadata": {},
   "outputs": [],
   "source": [
    "# Function still needs some rechecking but it might be correct.\n",
    "# replace symbols later, still having an issue with symbols\n",
    "def two_qubit_unitary(bits): \n",
    "    \"\"\"Make a Cirq circuit that creates an arbitrary two qubit unitary.\"\"\"\n",
    "\n",
    "    sub_circ1 = one_qubit_unitary(1)\n",
    "    sub_circ2 = one_qubit_unitary(1, ('x2', 'y2', 'z2'))\n",
    "\n",
    "    qr = QuantumRegister(2)\n",
    "    big_qc = QuantumCircuit(qr)\n",
    "    big_qc.append(sub_circ1.to_instruction(), [qr[0]])\n",
    "    big_qc.append(sub_circ2.to_instruction(), [qr[1]])\n",
    "    big_qc.rzz(Parameter('theta2'), 0, 1)\n",
    "    big_qc.ryy(Parameter('theta3'), 0, 1)\n",
    "    big_qc.rxx(Parameter('theta4'), 0, 1)\n",
    "    big_qc.append(sub_circ1.to_instruction(), [qr[0]])\n",
    "    big_qc.append(sub_circ2.to_instruction(), [qr[1]])\n",
    "    \n",
    "    return big_qc"
   ]
  },
  {
   "cell_type": "code",
   "execution_count": null,
   "id": "1c0566f8",
   "metadata": {},
   "outputs": [],
   "source": [
    "two_qubit_unitary(QuantumRegister(2)).decompose().draw('mpl')"
   ]
  }
 ],
 "metadata": {
  "kernelspec": {
   "display_name": "Python 3 (ipykernel)",
   "language": "python",
   "name": "python3"
  },
  "language_info": {
   "codemirror_mode": {
    "name": "ipython",
    "version": 3
   },
   "file_extension": ".py",
   "mimetype": "text/x-python",
   "name": "python",
   "nbconvert_exporter": "python",
   "pygments_lexer": "ipython3",
   "version": "3.8.10"
  }
 },
 "nbformat": 4,
 "nbformat_minor": 5
}
