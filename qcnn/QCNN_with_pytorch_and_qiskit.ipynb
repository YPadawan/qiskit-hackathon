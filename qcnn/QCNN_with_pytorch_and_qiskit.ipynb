{
 "cells": [
  {
   "cell_type": "code",
   "execution_count": null,
   "id": "b5088014",
   "metadata": {},
   "outputs": [],
   "source": [
    "import numpy as np\n",
    "import sympy\n",
    "\n",
    "# Importing necessary quantum computing library (QISKIT)\n",
    "import qiskit\n",
    "from qiskit import transpile, assemble, QuantumCircuit, QuantumRegister, ClassicalRegister\n",
    "from qiskit.visualization import *\n",
    "\n",
    "import torch"
   ]
  },
  {
   "cell_type": "markdown",
   "id": "beafd859",
   "metadata": {},
   "source": [
    "## Coding the data generation with a qiskit twist"
   ]
  },
  {
   "cell_type": "code",
   "execution_count": null,
   "id": "e8f34f23",
   "metadata": {},
   "outputs": [],
   "source": [
    "\n",
    "# https://www.tensorflow.org/quantum/tutorials/qcnn\n",
    "# This function is a readaptation of the tensorflow tutorial using qiskit and pytorch instead\n",
    "# WARNING: I believe the function is working, but it looks like it is not possible to convert quantum gates\n",
    "# and quantum circuits to pytorch tensors.\n",
    "# I don't think there is an equivalent of tfq.convert_to_tensor yet.\n",
    "# For the moment the function only returns a tuple of lists for train and test excitations.\n",
    "def generate_data(qubits):\n",
    "    \"\"\"Generate training and testing data.\"\"\"\n",
    "    n_rounds = 20  # Produces n_rounds * n_qubits datapoints.\n",
    "    excitations = []\n",
    "    labels = []\n",
    "    for n in range(n_rounds):\n",
    "        for bit in qubits:\n",
    "            rng = np.random.uniform(-np.pi, np.pi)\n",
    "            # Creating a quantum circuit with qiskit\n",
    "            excitations.append(QuantumCircuit(bit.register).rx(rng, bit.register))\n",
    "            #excitations.append(cirq.Circuit(cirq.rx(rng)(bit))) / cirq to check if it's correct\n",
    "            labels.append(1 if (-np.pi / 2) <= rng <= (np.pi / 2) else -1)\n",
    "\n",
    "    split_ind = int(len(excitations) * 0.7)\n",
    "    train_excitations = excitations[:split_ind]\n",
    "    test_excitations = excitations[split_ind:]\n",
    "\n",
    "    train_labels = labels[:split_ind]\n",
    "    test_labels = labels[split_ind:]\n",
    "    \n",
    "    return train_excitations, np.array(train_labels), \\\n",
    "        test_excitations, np.array(test_labels)\n"
   ]
  },
  {
   "cell_type": "code",
   "execution_count": null,
   "id": "e1a61a9b",
   "metadata": {},
   "outputs": [],
   "source": [
    "qr = QuantumRegister(2)\n",
    "train_excitations, train_labels, test_excitations, test_labels = generate_data(qr)"
   ]
  },
  {
   "cell_type": "markdown",
   "id": "935c4dc1",
   "metadata": {},
   "source": [
    "## Coding the cluster-state"
   ]
  },
  {
   "cell_type": "code",
   "execution_count": null,
   "id": "216052ff",
   "metadata": {},
   "outputs": [],
   "source": [
    "# Source:https://www.tensorflow.org/quantum/tutorials/qcnn\n",
    "def cluster_state(qr):\n",
    "    \n",
    "    qc = QuantumCircuit(qr) # Creating a QuantumRegister\n",
    "    \n",
    "    # Applying a Hadamard gate to qubits\n",
    "    for i, _ in enumerate(qr): \n",
    "        qc.h(i)\n",
    "        \n",
    "    for this_bit, next_bit in zip(qr, qr[1:] + [qr[0]]):\n",
    "        c = this_bit.index\n",
    "        t = next_bit.index\n",
    "        qc.cz(c, t)\n",
    "    return qc"
   ]
  },
  {
   "cell_type": "code",
   "execution_count": null,
   "id": "8909538c",
   "metadata": {
    "scrolled": true
   },
   "outputs": [],
   "source": [
    "qc_cs = cluster_state(QuantumRegister(4))"
   ]
  },
  {
   "cell_type": "code",
   "execution_count": null,
   "id": "0192fe0f",
   "metadata": {},
   "outputs": [],
   "source": [
    "qc_cs.draw('mpl')"
   ]
  },
  {
   "cell_type": "markdown",
   "id": "4a07a572",
   "metadata": {},
   "source": [
    "## QCNN layers"
   ]
  },
  {
   "cell_type": "markdown",
   "id": "ce0f2268",
   "metadata": {},
   "source": [
    "### one qubit unitary"
   ]
  },
  {
   "cell_type": "code",
   "execution_count": null,
   "id": "670d8224",
   "metadata": {},
   "outputs": [],
   "source": [
    "# Source of the function: https://www.tensorflow.org/quantum/tutorials/qcnn\n",
    "# The function has been re-adapted for qiskit use\n",
    "from qiskit.circuit import Parameter\n",
    "def one_qubit_unitary(bit, rotation=('1', '2', '3')):\n",
    "    \"\"\"Make a circuit enacting a rotation of the bloch sphere about the X,\n",
    "    Y and Z axis, that depends on the values in `symbols`.\n",
    "    Parameters\n",
    "    -----------\n",
    "    bit: (QuantumRegister (qubit)) \n",
    "        qubit that to rotate\n",
    "    rotation: (tuple) \n",
    "        tuple containing the three rotation angle for respectively, x, y and z\n",
    "    Returns\n",
    "    -------\n",
    "        Rotated qubit\n",
    "    \"\"\"\n",
    "    x, y, z = rotation\n",
    "    qc = QuantumCircuit(bit)\n",
    "    qc.rx(Parameter(x), 0)\n",
    "    qc.ry(Parameter(y), 0)\n",
    "    qc.rz(Parameter(z), 0)\n",
    "    return qc"
   ]
  },
  {
   "cell_type": "code",
   "execution_count": null,
   "id": "ec531c88",
   "metadata": {},
   "outputs": [],
   "source": [
    "one_qubit_unitary(1, (\"e1\", \"e2\", \"e3\")).draw()"
   ]
  },
  {
   "cell_type": "markdown",
   "id": "edab59e2",
   "metadata": {},
   "source": [
    "### two qubit unitary"
   ]
  },
  {
   "cell_type": "code",
   "execution_count": null,
   "id": "a2733be2",
   "metadata": {},
   "outputs": [],
   "source": [
    "# Function still needs some rechecking but it might be correct.\n",
    "# replace symbols later, still having an issue with symbols\n",
    "def two_qubit_unitary(bits, \n",
    "                      rotations={\"q1\": (\"x1\", \"y1\", \"z1\"), \n",
    "                                \"q2\": ('x2', 'y2', 'z2'), \n",
    "                                \"rzyx\":(\"t1\", \"t2\", \"t3\")}): \n",
    "    \"\"\"Make a qiskit circuit that creates an arbitrary two qubit unitary.\"\"\"\n",
    "    \n",
    "    rot1 = rotations[\"q1\"]\n",
    "    rot2 = rotations[\"q2\"]\n",
    "    sub_circ1 = one_qubit_unitary(1, rot1)\n",
    "    sub_circ2 = one_qubit_unitary(1, rot2)\n",
    "\n",
    "    qr = bits\n",
    "    big_qc = QuantumCircuit(qr)\n",
    "    big_qc.append(sub_circ1.to_instruction(), [qr[0]])\n",
    "    big_qc.append(sub_circ2.to_instruction(), [qr[1]])\n",
    "    \n",
    "    zz, yy, xx = rotations[\"rzyx\"]\n",
    "    big_qc.rzz(Parameter(zz), 0, 1)\n",
    "    big_qc.ryy(Parameter(yy), 0, 1)\n",
    "    big_qc.rxx(Parameter(xx), 0, 1)\n",
    "    \n",
    "    big_qc.append(sub_circ1.to_instruction(), [qr[0]])\n",
    "    big_qc.append(sub_circ2.to_instruction(), [qr[1]])\n",
    "    \n",
    "    return big_qc"
   ]
  },
  {
   "cell_type": "code",
   "execution_count": null,
   "id": "1c0566f8",
   "metadata": {},
   "outputs": [],
   "source": [
    "two_qubit_unitary(QuantumRegister(2)).decompose().draw('mpl')"
   ]
  },
  {
   "cell_type": "markdown",
   "id": "2fdc0f63",
   "metadata": {},
   "source": [
    "### two qubit pool"
   ]
  },
  {
   "cell_type": "code",
   "execution_count": null,
   "id": "a91dfc73",
   "metadata": {},
   "outputs": [],
   "source": [
    "# source: https://www.tensorflow.org/quantum/tutorials/qcnn\n",
    "def two_qubit_pool(source_qubit, sink_qubit, \n",
    "                   rotations={\"q1\":(\"x1\", \"y1\", \"z1\"), \n",
    "                              \"q2\": (\"x2\", \"y2\", \"z2\"), \n",
    "                              \"invq\":(\"-x\", \"-y\", \"-z\")}): # add symbols later\n",
    "    \"\"\"Make a Qiskit circuit to do a parameterized 'pooling' operation, which\n",
    "    attempts to reduce entanglement down from two qubits to just one.\"\"\"\n",
    "    \n",
    "    rot1 = rotations[\"q1\"]\n",
    "    rot2 = rotations[\"q2\"]\n",
    "    sink_basis_selector = one_qubit_unitary(sink_qubit, rot1)\n",
    "    source_basis_selector = one_qubit_unitary(source_qubit, rot2)\n",
    "    \n",
    "    qr = QuantumRegister(2)\n",
    "    pool_circuit = QuantumCircuit(qr)\n",
    "    pool_circuit.append(sink_basis_selector.to_instruction(), [qr[0]])\n",
    "    pool_circuit.append(source_basis_selector.to_instruction(), [qr[1]])\n",
    "    pool_circuit.cnot(control_qubit=0, target_qubit=1)\n",
    "    \n",
    "    # add sink_basis selector I don't know what is being done\n",
    "    inv_rot = rotations[\"invq\"]\n",
    "    inv_sink_basis_selector = one_qubit_unitary(source_qubit, inv_rot)\n",
    "    pool_circuit.append(inv_sink_basis_selector.to_instruction(), [qr[1]])\n",
    "    \n",
    "    return pool_circuit"
   ]
  },
  {
   "cell_type": "code",
   "execution_count": null,
   "id": "f9bfc616",
   "metadata": {
    "scrolled": true
   },
   "outputs": [],
   "source": [
    "two_qubit_pool(QuantumRegister(1), QuantumRegister(1)).decompose().draw('mpl')"
   ]
  },
  {
   "cell_type": "markdown",
   "id": "eb359691",
   "metadata": {},
   "source": [
    "### quantum convolution"
   ]
  },
  {
   "cell_type": "code",
   "execution_count": null,
   "id": "87de6ac1",
   "metadata": {},
   "outputs": [],
   "source": [
    "def quantum_conv_circuit(bits): # Take care of rotations later\n",
    "    \n",
    "    qc = QuantumCircuit(bits)\n",
    "    # The xyz variable below is meant as a workaround to parameter implementation and replacement\n",
    "    xyz = (\"x\", \"y\", \"z\")\n",
    "    k = 0 # variable to increment in order\n",
    "    \n",
    "    for first, second in zip(bits[0::2], bits[1::2]):\n",
    "        i = first.index\n",
    "        j = second.index\n",
    "        ### Creating parameters to avoid duplicate names because they raises a Circuit Error ###\n",
    "        k+=1\n",
    "        q1_val = tuple([r + str(k) for r in xyz])\n",
    "        q2_val = tuple([r + str(k + 1) for r in xyz])\n",
    "        rzyx = tuple([t + str(k) for t in (\"theta\", \"beta\", \"gamma\")])\n",
    "        k+=1\n",
    "        rotations = {\"q1\": q1_val, \"q2\":q2_val, \"rzyx\":rzyx}\n",
    "        qc.append(two_qubit_unitary(QuantumRegister(2), rotations).to_instruction(), [bits[i], bits[j]])\n",
    "    \n",
    "    ### Second loop for the second two_qubit unitary\n",
    "    abc = (\"a\", \"b\", \"c\")\n",
    "    p = 0\n",
    "    for first, second in zip(bits[1::2], bits[2::2] + [bits[0]]):\n",
    "        i = first.index\n",
    "        j = second.index\n",
    "        ### Creating parameters to avoid duplicate names because they raises a Circuit Error ###\n",
    "        p+=1\n",
    "        q1_val = tuple([r + str(p) for r in abc])\n",
    "        q2_val = tuple([r + str(p + 1) for r in abc])\n",
    "        rzyx = tuple([t + str(p) for t in (\"mu\", \"nu\", \"eps\")])\n",
    "        p+=1\n",
    "        rotations = {\"q1\": q1_val, \"q2\":q2_val, \"rzyx\":rzyx}\n",
    "        qc.append(two_qubit_unitary(QuantumRegister(2), rotations).to_instruction(), [bits[i], bits[j]])\n",
    "        \n",
    "    return qc"
   ]
  },
  {
   "cell_type": "code",
   "execution_count": null,
   "id": "cd002768",
   "metadata": {
    "scrolled": true
   },
   "outputs": [],
   "source": [
    "quantum_conv_circuit(QuantumRegister(8)).decompose().draw('mpl')"
   ]
  },
  {
   "cell_type": "markdown",
   "id": "0bab98b1",
   "metadata": {},
   "source": [
    "### quantum pooling circuit"
   ]
  },
  {
   "cell_type": "code",
   "execution_count": null,
   "id": "efb19b4a",
   "metadata": {},
   "outputs": [],
   "source": [
    "def quantum_pool_circuit(bits):\n",
    "    \n",
    "    circuit = QuantumCircuit(bits) # instantiating of the quantum circuit\n",
    "    # The xyz variable below is mean't as a workaround to parameter implementation and replacement\n",
    "    xyz = (\"x\", \"y\", \"z\")\n",
    "    k = 0 # variable to increment in order\n",
    "    \n",
    "    assert len(bits) % 2==0, \"The number of qubits in the register should be even\"\n",
    "    \n",
    "    split = len(bits) // 2 # taking half of the quantum register's length\n",
    "\n",
    "    for source, sink in zip(bits[:split], bits[split:]):\n",
    "        \n",
    "        i = source.index # getting source qubit index\n",
    "        j = sink.index # sink qubit index\n",
    "\n",
    "        ### Creating parameters to avoid duplicate names because they raises a Circuit Error ###\n",
    "        k+=1\n",
    "        q1_val = tuple([r + str(k) for r in xyz])\n",
    "        invq_val = tuple([\"-\" + r + str(k) for r in xyz])\n",
    "        q2_val = tuple([r + str(k + 1) for r in xyz])\n",
    "        k+=1 # k is incremented twice because q2_val takes the value (k + 1) at k round\n",
    "\n",
    "        tqb = two_qubit_pool(QuantumRegister(1), QuantumRegister(1), \n",
    "                             {\"q1\": q1_val, \"q2\":q2_val, \"invq\":invq_val})\n",
    "        circuit.append(tqb.to_instruction(),\n",
    "                       [bits[i], bits[j]])\n",
    "    return circuit"
   ]
  },
  {
   "cell_type": "code",
   "execution_count": null,
   "id": "031ce405",
   "metadata": {},
   "outputs": [],
   "source": [
    "test_bits = QuantumRegister(8)\n",
    "quantum_pool_circuit(test_bits).decompose().draw('mpl')"
   ]
  }
 ],
 "metadata": {
  "kernelspec": {
   "display_name": "Python 3 (ipykernel)",
   "language": "python",
   "name": "python3"
  },
  "language_info": {
   "codemirror_mode": {
    "name": "ipython",
    "version": 3
   },
   "file_extension": ".py",
   "mimetype": "text/x-python",
   "name": "python",
   "nbconvert_exporter": "python",
   "pygments_lexer": "ipython3",
   "version": "3.8.10"
  }
 },
 "nbformat": 4,
 "nbformat_minor": 5
}
